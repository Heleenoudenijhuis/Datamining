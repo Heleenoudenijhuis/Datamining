{
 "cells": [
  {
   "cell_type": "code",
   "execution_count": 1,
   "metadata": {},
   "outputs": [],
   "source": [
    "import datetime\n",
    "import pandas as pd\n",
    "import matplotlib.pyplot as plt\n",
    "import numpy as np\n",
    "%matplotlib inline"
   ]
  },
  {
   "cell_type": "code",
   "execution_count": 24,
   "metadata": {},
   "outputs": [
    {
     "name": "stdout",
     "output_type": "stream",
     "text": [
      "loading the dataset, make sure it is in the same folder\n"
     ]
    }
   ],
   "source": [
    "train = pd.read_csv('training_set_VU_DM.csv')\n",
    "test = pd.read_csv('test_set_VU_DM.csv')\n",
    "print('loading the dataset, make sure it is in the same folder')"
   ]
  },
  {
   "cell_type": "code",
   "execution_count": 25,
   "metadata": {},
   "outputs": [],
   "source": [
    "#datetime features\n",
    "train['date_time'] =  pd.to_datetime(train['date_time'])\n",
    "train['day']=train['date_time'].dt.day\n",
    "train['month']= train['date_time'].dt.month\n",
    "train['year']=train['date_time'].dt.year\n",
    "\n",
    "#Find booking date\n",
    "train['date_time_book'] = train['date_time'] -  pd.to_timedelta(train['srch_booking_window'], unit='d')"
   ]
  },
  {
   "cell_type": "code",
   "execution_count": 26,
   "metadata": {},
   "outputs": [],
   "source": [
    "#datetime features\n",
    "test['date_time'] =  pd.to_datetime(test['date_time'])\n",
    "test['day']=test['date_time'].dt.day\n",
    "test['month']= test['date_time'].dt.month\n",
    "test['year']=test['date_time'].dt.year\n",
    "\n",
    "#Find booking date\n",
    "test['date_time_book'] = test['date_time'] -  pd.to_timedelta(test['srch_booking_window'], unit='d')"
   ]
  },
  {
   "cell_type": "code",
   "execution_count": 27,
   "metadata": {},
   "outputs": [
    {
     "name": "stdout",
     "output_type": "stream",
     "text": [
      "the year range of the training set is\n",
      "2012\n",
      "2013\n"
     ]
    }
   ],
   "source": [
    "print('the year range of the training set is')\n",
    "print(train['year'].min())\n",
    "print(train['year'].max())"
   ]
  },
  {
   "cell_type": "code",
   "execution_count": 28,
   "metadata": {},
   "outputs": [
    {
     "name": "stdout",
     "output_type": "stream",
     "text": [
      "the year range of the test set is\n",
      "2012\n",
      "2013\n"
     ]
    }
   ],
   "source": [
    "print('the year range of the test set is')\n",
    "print(test['year'].min())\n",
    "print(test['year'].max())"
   ]
  },
  {
   "cell_type": "code",
   "execution_count": null,
   "metadata": {},
   "outputs": [],
   "source": []
  }
 ],
 "metadata": {
  "kernelspec": {
   "display_name": "Python 3",
   "language": "python",
   "name": "python3"
  },
  "language_info": {
   "codemirror_mode": {
    "name": "ipython",
    "version": 3
   },
   "file_extension": ".py",
   "mimetype": "text/x-python",
   "name": "python",
   "nbconvert_exporter": "python",
   "pygments_lexer": "ipython3",
   "version": "3.7.4"
  }
 },
 "nbformat": 4,
 "nbformat_minor": 2
}
